{
  "nbformat": 4,
  "nbformat_minor": 0,
  "metadata": {
    "colab": {
      "provenance": []
    },
    "kernelspec": {
      "name": "python3",
      "display_name": "Python 3"
    },
    "language_info": {
      "name": "python"
    }
  },
  "cells": [
    {
      "cell_type": "markdown",
      "source": [
        "Installation de la bibliothèque Spark"
      ],
      "metadata": {
        "id": "3dPNPJOE_OXz"
      }
    },
    {
      "cell_type": "code",
      "execution_count": 182,
      "metadata": {
        "id": "HOy8S9wl-f8S"
      },
      "outputs": [],
      "source": [
        "from pyspark.sql import SparkSession\n",
        "from pyspark.sql.functions import col, split, explode, avg, to_date\n",
        "from pyspark.sql.types import DateType"
      ]
    },
    {
      "cell_type": "markdown",
      "source": [
        "Initialisation de la session Spark"
      ],
      "metadata": {
        "id": "z6sZo6fvJGuL"
      }
    },
    {
      "cell_type": "code",
      "source": [
        "spark = SparkSession.builder.appName('MoviesAnalyse').getOrCreate()"
      ],
      "metadata": {
        "id": "mh9MyT0V_ZBU"
      },
      "execution_count": 183,
      "outputs": []
    },
    {
      "cell_type": "markdown",
      "source": [
        "Etape 1 : Préparation des données"
      ],
      "metadata": {
        "id": "B1wkc-PMTM-b"
      }
    },
    {
      "cell_type": "markdown",
      "source": [
        "Chargement du fichier csv dans un DataFrame spark"
      ],
      "metadata": {
        "id": "XQ0eEG1bJQPF"
      }
    },
    {
      "cell_type": "code",
      "source": [
        "chemin_fichier = \"./rotten_tomatoes_movies.csv\"\n",
        "movies_df = spark.read.csv(chemin_fichier, header=True, inferSchema=True)"
      ],
      "metadata": {
        "id": "RwefWiWjJVnD"
      },
      "execution_count": 184,
      "outputs": []
    },
    {
      "cell_type": "markdown",
      "source": [
        "Affichage des données"
      ],
      "metadata": {
        "id": "gck27xUfJ2sV"
      }
    },
    {
      "cell_type": "code",
      "source": [
        "movies_df.show()"
      ],
      "metadata": {
        "colab": {
          "base_uri": "https://localhost:8080/"
        },
        "id": "mlnpkMDUJ4-n",
        "outputId": "1fcf3694-806e-4342-a908-599e60770168"
      },
      "execution_count": 185,
      "outputs": [
        {
          "output_type": "stream",
          "name": "stdout",
          "text": [
            "+--------------------+--------------------+--------------------+--------------------+--------------------+--------------------+--------------------+--------------------+--------------------+--------------------+--------------------+--------------------+--------------------+--------------------+--------------------+---------------+--------------------+\n",
            "|         movie_title|          movie_info|   critics_consensus|              rating|               genre|           directors|             writers|                cast|    in_theaters_date|   on_streaming_date|  runtime_in_minutes|         studio_name|  tomatometer_status|  tomatometer_rating|   tomatometer_count|audience_rating|      audience_count|\n",
            "+--------------------+--------------------+--------------------+--------------------+--------------------+--------------------+--------------------+--------------------+--------------------+--------------------+--------------------+--------------------+--------------------+--------------------+--------------------+---------------+--------------------+\n",
            "|Percy Jackson & t...|A teenager discov...|Though it may see...|                  PG|Action & Adventur...|      Chris Columbus|        Craig Titley|Logan Lerman, Bra...|          2010-02-12|          2010-06-29|                  83|    20th Century Fox|              Rotten|                  49|                 144|             53|              254287|\n",
            "|         Please Give|Kate has a lot on...|Nicole Holofcener...|                   R|              Comedy|   Nicole Holofcener|   Nicole Holofcener|Catherine Keener,...|          2010-04-30|          2010-10-19|                  90|Sony Pictures Cla...|     Certified Fresh|                  86|                 140|             64|               11567|\n",
            "|                  10|\"Blake Edwards' 1...|    upon its release| 10 was one of th...|               Rovi\"|                NULL|                   R|     Comedy, Romance|       Blake Edwards|       Blake Edwards|Dudley Moore, Bo ...|          1979-10-05|          1997-08-27|                 118|         Waner Bros.|          Fresh|                  68|\n",
            "|12 Angry Men (Twe...|\"A Puerto Rican y...|\"\" hopes that his...|  an advertising man| doesn't understa...| #2 (John Fiedler...| anxious not to m...| \"\"go with the fl...| Fonda chips away...| insisting that h...| Twelve Angry Men...| who wrote the 19...| here making his ...| since it cost al...| Twelve Angry Men...|          Rovi\"|Sidney Lumet's fe...|\n",
            "|20,000 Leagues Un...|This 1954 Disney ...|One of Disney's f...|                   G|Action & Adventur...|   Richard Fleischer|         Earl Felton|James Mason, Kirk...|          1954-01-01|          2003-05-20|                 127|              Disney|               Fresh|                  89|                  27|             74|               68860|\n",
            "|         10,000 B.C.|A young outcast f...|With attention st...|               PG-13|Action & Adventur...|     Roland Emmerich|Roland Emmerich, ...|Steven Strait, Ca...|          2008-03-07|          2008-06-24|                 109|Warner Bros. Pict...|              Rotten|                   8|                 148|             37|              411087|\n",
            "|        The 39 Steps|A man in London t...|Packed with twist...|                  NR|Action & Adventur...|    Alfred Hitchcock|Alma Reville, Cha...|Robert Donat, Mad...|          1935-08-01|          1935-06-06|                  87|Gaumont British D...|     Certified Fresh|                  96|                  47|             86|               23827|\n",
            "|        3:10 to Yuma|Desperate for mon...|                NULL|                  NR|Classics, Drama, ...|        Delmer Daves|      Halsted Welles|Glenn Ford, Van H...|          1957-08-07|          2002-04-02|                  92|   Columbia Pictures|               Fresh|                  96|                  27|             78|                9224|\n",
            "|Charly (A Heartbe...|Sam Roberts think...|                NULL|                  PG|Comedy, Drama, Ro...|Adam Thomas Anderegg|Jack Weyland, Jan...|Heather Beers, Ga...|          2002-09-27|          2003-08-01|                 103| Excel Entertainment|              Rotten|                  20|                  10|             87|                4819|\n",
            "|     Abraham Lincoln|To date, this D.W...|                NULL|                  NR|     Classics, Drama|       D.W. Griffith|Gerrit J. Lloyd, ...|Walter Huston, Un...|          1930-11-08|          2008-11-18|                  97|      United Artists|               Fresh|                  90|                  10|             38|                 455|\n",
            "|          Dark Water|Following up on h...|                NULL|               PG-13|Art House & Inter...|        Hideo Nakata|Hideo Hakata, Tak...|Hitomi Kuroki, Ri...|          2002-01-19|          2005-06-21|                 100|    Toho Company Ltd|               Fresh|                  80|                  15|             66|               21459|\n",
            "|         The Accused|\"Simultaneously g...|     Massachusetts.\"|                NULL|                   R|Drama, Mystery & ...|     Jonathan Kaplan|           Tom Topor|Jodie Foster, Kel...|          1988-10-14|          2002-04-16|                 110|  Paramount Pictures|               Fresh|                  91|             22|                  79|\n",
            "|       The Lost City|Andy Garcia stars...|Its heart is in t...|                   R|               Drama|         Andy Garcia|G. Cabrera Infant...|Andy Garcia, Dust...|          2005-09-03|          2006-08-08|                 143|   Magnolia Pictures|              Rotten|                  25|                  83|             64|               25940|\n",
            "|  The Breaking Point|In this taut adap...|                NULL|                  NR|               Drama|      Michael Curtiz|   Ranald MacDougall|John Garfield, Pa...|          1950-10-06|          2017-08-08|                  97|   Warner Home Video|               Fresh|                 100|                   7|             84|                 328|\n",
            "|          Adam's Rib|\"Written by Ruth ...| while Amanda def...| while the Bonner...|           Tom Ewell| and David Wayne ...| and the return t...| it inspired a br...|Matched by Garson...|                  NR|Classics, Comedy,...|        George Cukor|Garson Kanin, Rut...|Spencer Tracy, Ka...|          1949-11-18|     2000-09-19|                 100|\n",
            "|The Bridge of San...|Thornton Wilder's...|Despite an all-st...|                  PG|Art House & Inter...|      Mary McGuckian|      Mary McGuckian|Gabriel Byrne, F....|          2005-06-10|          2005-10-11|                 120|  Fine Line Features|              Rotten|                   4|                  24|             35|                1931|\n",
            "|The Prowler (Cost...|\"Webb Garwood (Va...| and they begin a...| conducted while ...| Susan ends the r...| but Garwood rema...| he shoots him an...|  she buys his story| and the lovers m...| upon discovering...|\"\" they flee to g...| but eventually S...|                NULL|                  PG|Drama, Mystery & ...|   Joseph Losey|Robert Thoeren, D...|\n",
            "|            Criminal|A contemporary ca...|If you saw Nine Q...|                   R|Drama, Mystery & ...|Greggory Jacobs, ...|Gregory Jacobs, F...|John C. Reilly, D...|          2004-09-24|          2005-04-12|                  88|Warner Bros. Pict...|               Fresh|                  69|                 124|             57|                6702|\n",
            "|The Adventures of...|\"Will Vinton, the...| Adventures of Ma...|                NULL|                   G|Action & Adventur...|         Will Vinton|     Susan Shadburne|James Whitmore, M...|          1985-03-01|          2006-01-31|                  86|Eureka Entertainm...|               Fresh|                  80|              5|                  82|\n",
            "|           Deep Blue|This comprehensiv...|Full of visually ...|                   G|Documentary, Spec...|Andy Byatt, Alast...|Alastair Fothergi...|Pierce Brosnan, M...|          2005-06-17|          2006-04-11|                  90|       Miramax Flims|               Fresh|                  67|                  52|             80|                4690|\n",
            "+--------------------+--------------------+--------------------+--------------------+--------------------+--------------------+--------------------+--------------------+--------------------+--------------------+--------------------+--------------------+--------------------+--------------------+--------------------+---------------+--------------------+\n",
            "only showing top 20 rows\n",
            "\n"
          ]
        }
      ]
    },
    {
      "cell_type": "markdown",
      "source": [
        "Nettoyage des données"
      ],
      "metadata": {
        "id": "Jqi0_R9tKGbZ"
      }
    },
    {
      "cell_type": "markdown",
      "source": [
        "Suppression des lignes vides ou invalides"
      ],
      "metadata": {
        "id": "sS-XJ-9dKcq5"
      }
    },
    {
      "cell_type": "code",
      "source": [
        "cleaned_df = movies_df.dropna(subset=[\"in_theaters_date\", \"on_streaming_date\", \"tomatometer_rating\"])\n",
        "cleaned_df = movies_df.dropna()"
      ],
      "metadata": {
        "id": "FM08XXYeKIQ6"
      },
      "execution_count": 186,
      "outputs": []
    },
    {
      "cell_type": "markdown",
      "source": [
        "Conversion des dates dans le format yyyy-MM-dd"
      ],
      "metadata": {
        "id": "evXBWLBzKqPa"
      }
    },
    {
      "cell_type": "code",
      "source": [
        "cleaned_df = cleaned_df.withColumn(\"in_theaters_date\", to_date(col(\"in_theaters_date\"), \"yyyy-MM-dd\"))\n",
        "cleaned_df = cleaned_df.withColumn(\"on_streaming_date\", to_date(col(\"on_streaming_date\"), \"yyyy-MM-dd\"))"
      ],
      "metadata": {
        "id": "-PqJHi8NLCSa"
      },
      "execution_count": 187,
      "outputs": []
    },
    {
      "cell_type": "markdown",
      "source": [
        "Etape 2 : Manipulation des données & analyses"
      ],
      "metadata": {
        "id": "yl-AsjqDM4AJ"
      }
    },
    {
      "cell_type": "markdown",
      "source": [
        "Filtre sur les films avec une note basse (< 20)"
      ],
      "metadata": {
        "id": "EL6wzaWQNgaY"
      }
    },
    {
      "cell_type": "code",
      "source": [
        "low_rated_movies = cleaned_df.filter(col(\"tomatometer_rating\") < 20)"
      ],
      "metadata": {
        "id": "-tfayePaNjZa"
      },
      "execution_count": 188,
      "outputs": []
    },
    {
      "cell_type": "markdown",
      "source": [
        "Filtre sur les films sortis (en cinéma) après 2000"
      ],
      "metadata": {
        "id": "nX6VPkB1RMh3"
      }
    },
    {
      "cell_type": "code",
      "source": [
        "movies_after_2000 = cleaned_df.filter(col(\"in_theaters_date\") > \"2000-01-01\")"
      ],
      "metadata": {
        "id": "GaNWPbmbRPSt"
      },
      "execution_count": 189,
      "outputs": []
    },
    {
      "cell_type": "markdown",
      "source": [
        "Filtre sur la note moyenne des films par studio"
      ],
      "metadata": {
        "id": "BDl5_kjxRy8y"
      }
    },
    {
      "cell_type": "code",
      "source": [
        "average_rating_by_studio = cleaned_df.groupBy(\"studio_name\").agg(avg(\"tomatometer_rating\").alias(\"avg_rating\")).filter(col(\"avg_rating\").isNotNull()).orderBy(\"avg_rating\", ascending=False)"
      ],
      "metadata": {
        "id": "rDSF8LOTR1bf"
      },
      "execution_count": 190,
      "outputs": []
    },
    {
      "cell_type": "markdown",
      "source": [
        "Filtre sur les notes moyennes des films par directeur"
      ],
      "metadata": {
        "id": "I4_4GSx4SpyT"
      }
    },
    {
      "cell_type": "code",
      "source": [
        "average_rating_by_director = cleaned_df.groupBy(\"directors\").agg(avg(\"tomatometer_rating\").alias(\"avg_rating\")).filter(col(\"avg_rating\").isNotNull()).orderBy(\"avg_rating\", ascending=False)"
      ],
      "metadata": {
        "id": "hkJ0aC9eSxLN"
      },
      "execution_count": 191,
      "outputs": []
    },
    {
      "cell_type": "markdown",
      "source": [
        "Etape 3 : Fonctionnalités avancées"
      ],
      "metadata": {
        "id": "Xi_KA0YYTRmR"
      }
    },
    {
      "cell_type": "markdown",
      "source": [
        "Division des genres multiples en genres individuels"
      ],
      "metadata": {
        "id": "im7VqX_jUDkk"
      }
    },
    {
      "cell_type": "markdown",
      "source": [
        "On sépare les genres en utilisant les virgules"
      ],
      "metadata": {
        "id": "SyqbqxrzURB8"
      }
    },
    {
      "cell_type": "code",
      "source": [
        "genres_df = cleaned_df.withColumn(\"genre\", explode(split(col(\"genre\"), \", \")))"
      ],
      "metadata": {
        "id": "qVxp0d9nTXsH"
      },
      "execution_count": 192,
      "outputs": []
    },
    {
      "cell_type": "markdown",
      "source": [
        "Durée moyenne d'un film pour chaque genre"
      ],
      "metadata": {
        "id": "84bdXnN6Ueot"
      }
    },
    {
      "cell_type": "code",
      "source": [
        "average_duration_by_genre = genres_df.groupBy(\"genre\").agg(avg(\"runtime_in_minutes\").alias(\"avg_duration\")).filter(col(\"avg_duration\").isNotNull()).orderBy(\"avg_duration\", ascending=False)"
      ],
      "metadata": {
        "id": "5SR11m80UmtU"
      },
      "execution_count": 193,
      "outputs": []
    },
    {
      "cell_type": "markdown",
      "source": [
        "On affiche les résultats"
      ],
      "metadata": {
        "id": "fsyr6g4HUtKp"
      }
    },
    {
      "cell_type": "markdown",
      "source": [
        "Les films les moins biens notés"
      ],
      "metadata": {
        "id": "RWxoi6QZU6Sf"
      }
    },
    {
      "cell_type": "code",
      "source": [
        "low_rated_movies.show()"
      ],
      "metadata": {
        "colab": {
          "base_uri": "https://localhost:8080/"
        },
        "id": "JyT8loS8Uu3v",
        "outputId": "f54545bb-fb9c-4c20-c88c-8eca58f41cdb"
      },
      "execution_count": 194,
      "outputs": [
        {
          "output_type": "stream",
          "name": "stdout",
          "text": [
            "+--------------------+--------------------+--------------------+------+--------------------+--------------------+--------------------+--------------------+----------------+-----------------+------------------+--------------------+------------------+------------------+-----------------+---------------+--------------+\n",
            "|         movie_title|          movie_info|   critics_consensus|rating|               genre|           directors|             writers|                cast|in_theaters_date|on_streaming_date|runtime_in_minutes|         studio_name|tomatometer_status|tomatometer_rating|tomatometer_count|audience_rating|audience_count|\n",
            "+--------------------+--------------------+--------------------+------+--------------------+--------------------+--------------------+--------------------+----------------+-----------------+------------------+--------------------+------------------+------------------+-----------------+---------------+--------------+\n",
            "|         10,000 B.C.|A young outcast f...|With attention st...| PG-13|Action & Adventur...|     Roland Emmerich|Roland Emmerich, ...|Steven Strait, Ca...|      2008-03-07|       2008-06-24|               109|Warner Bros. Pict...|            Rotten|                 8|              148|             37|        411087|\n",
            "|The Bridge of San...|Thornton Wilder's...|Despite an all-st...|    PG|Art House & Inter...|      Mary McGuckian|      Mary McGuckian|Gabriel Byrne, F....|      2005-06-10|       2005-10-11|               120|  Fine Line Features|            Rotten|                 4|               24|             35|          1931|\n",
            "|         Ultraviolet|In the late 21st ...|An incomprehensib...| PG-13|Action & Adventur...|         Kurt Wimmer|         Kurt Wimmer|Milla Jovovich, C...|      2006-03-03|       2006-06-27|                88|       Sony Pictures|            Rotten|                 8|               83|             30|        279966|\n",
            "|My Best Friend's ...|Smart, beautiful ...|My Best Friend's ...|     R|       Comedy, Drama|       Howard Deutch|Jordan Cahan, Jor...|Dane Cook, Kate H...|      2008-09-18|       2009-01-13|               101|           Lionsgate|            Rotten|                14|               59|             46|         86580|\n",
            "|            Whiteout|A U.S. marshall t...|Kate Beckinsale i...|     R|Action & Adventur...|        Dominic Sena|Jon Hoeber, Erich...|Kate Beckinsale, ...|      2009-09-11|       2010-01-19|               106|Warner Bros. Pict...|            Rotten|                 7|              115|             21|        538847|\n",
            "|         Untraceable|This is the story...|Despite Diane Lan...|     R|Drama, Horror, My...|      Gregory Hoblit|Allison Burnett, ...|Diane Lane, Billy...|      2008-01-25|       2008-05-13|               101|    Sony/Screen Gems|            Rotten|                16|              148|             52|        225115|\n",
            "|       The Informers|A collection of B...|As miserable and ...|     R|Drama, Mystery & ...|       Gregor Jordan|Bret Easton Ellis...|Billy Bob Thornto...|      2009-04-24|       2009-08-25|                98|Senator Internati...|            Rotten|                12|              105|             18|         18503|\n",
            "| The Perfect Holiday|Gabrielle Union, ...|The Perfect Holid...| PG-13|Kids & Family, Ro...|        Lance Rivera|Lance Rivera, Mar...|Morris Chestnut, ...|      2007-12-12|       2008-11-11|                96|     Yari Film Group|            Rotten|                16|               57|             52|        159641|\n",
            "|             Shutter|A newly married c...|Being a remake of...| PG-13|Horror, Mystery &...|     Masayuki Ochiai|         Luke Dawson|Joshua Jackson, R...|      2008-03-19|       2008-07-15|                85|    20th Century Fox|            Rotten|                 9|               65|             33|        241165|\n",
            "|              Priest|Priest, a western...|Sleek and stylish...| PG-13|Action & Adventur...|       Scott Stewart|Scott Stewart, Co...|Paul Bettany, Mag...|      2011-05-13|       2011-08-16|                83|Screen Gems/SONY ...|            Rotten|                15|               99|             46|         86566|\n",
            "|       The Other Man|After many years ...|Despite the best ...|     R|               Drama|        Richard Eyre|Richard Eyre, Cha...|Liam Neeson, Anto...|      2008-12-03|       2009-04-07|                80| Image Entertainment|            Rotten|                15|               39|             18|          4511|\n",
            "|            Old Dogs|Two best friends ...|Its cast tries ha...|    PG|Comedy, Drama, Ki...|Walt Becker, Walt...|David Diamond, Da...|John Travolta, Ro...|      2009-11-25|       2010-03-09|                88|Walt Disney Pictures|            Rotten|                 5|              109|             44|        182878|\n",
            "|                Scar|A young woman bes...|A nasty, witless ...|     R|Drama, Horror, My...|        Jed Weintrob|           Zack Ford|Angela Bettis, Ki...|      2007-05-20|       2006-09-26|                78|             Unknown|            Rotten|                 0|               18|             11|           688|\n",
            "|          The Unborn|Casey Beldon hate...|David Goyer's Unb...| PG-13|Horror, Mystery &...|      David S. Goyer|      David S. Goyer|Odette Annable, G...|      2009-01-09|       2009-07-07|                88|      Rogue Pictures|            Rotten|                10|              118|             30|        831822|\n",
            "|      The Stepfather|A seemingly norma...|This tepid remake...| PG-13|Horror, Mystery &...|    Nelson McCormick|Donald E. Westlak...|Dylan Walsh, Penn...|      2009-10-16|       2010-02-09|               103|         Screen Gems|            Rotten|                11|               62|             34|        982207|\n",
            "| Season of the Witch|Oscar (R) winner ...|Slow, cheap-looki...| PG-13|Action & Adventur...|        Dominic Sena|Bragi Schut, Jr, ...|Nicolas Cage, Ron...|      2011-01-07|       2011-06-28|                92|    Relativity Media|            Rotten|                11|              121|             30|         79825|\n",
            "|          Miss March|Directors Zach Cr...|Even by the modes...|     R|              Comedy|Zach Cregger, Tre...|Zach Cregger, Tre...|Zach Cregger, Tre...|      2009-03-13|       2009-07-28|                90|    20th Century Fox|            Rotten|                 5|               80|             30|         79376|\n",
            "|  An American Affair|Love and politica...|With a plot both ...|     R|Drama, Mystery & ...|      Sebastian Shah|Arshad Shah, Judd...|Corbin Bernsen, J...|      2009-02-27|       2009-07-28|                96|  Screen Media Films|            Rotten|                16|               37|             41|          1722|\n",
            "|              Meteor|\"After a shower o...|Meteor is a flims...|    PG|Action & Adventur...|        Ronald Neame|Stanley Mann, Edm...|Sean Connery, Nat...|      1979-10-19|       2000-03-07|               108|American Internat...|            Rotten|                 5|               20|             12|           932|\n",
            "|           Red Sonja|Red Sonja is unwa...|Dull, poorly dire...| PG-13|Action & Adventur...|   Richard Fleischer|Clive Exton, Geor...|Arnold Schwarzene...|      1985-07-03|       2004-07-06|                89|              MGM/UA|            Rotten|                15|               26|             28|         35204|\n",
            "+--------------------+--------------------+--------------------+------+--------------------+--------------------+--------------------+--------------------+----------------+-----------------+------------------+--------------------+------------------+------------------+-----------------+---------------+--------------+\n",
            "only showing top 20 rows\n",
            "\n"
          ]
        }
      ]
    },
    {
      "cell_type": "markdown",
      "source": [
        "Les films sortis au cinéma après l'année 2000"
      ],
      "metadata": {
        "id": "dTUhfyxLU-YB"
      }
    },
    {
      "cell_type": "code",
      "source": [
        "movies_after_2000.show()"
      ],
      "metadata": {
        "colab": {
          "base_uri": "https://localhost:8080/"
        },
        "id": "DbzW-F59VDGJ",
        "outputId": "868deaf9-e0d9-4e1d-f9a1-d33c2dfa9322"
      },
      "execution_count": 195,
      "outputs": [
        {
          "output_type": "stream",
          "name": "stdout",
          "text": [
            "+--------------------+--------------------+--------------------+------+--------------------+--------------------+--------------------+--------------------+----------------+-----------------+------------------+--------------------+------------------+------------------+-----------------+---------------+--------------+\n",
            "|         movie_title|          movie_info|   critics_consensus|rating|               genre|           directors|             writers|                cast|in_theaters_date|on_streaming_date|runtime_in_minutes|         studio_name|tomatometer_status|tomatometer_rating|tomatometer_count|audience_rating|audience_count|\n",
            "+--------------------+--------------------+--------------------+------+--------------------+--------------------+--------------------+--------------------+----------------+-----------------+------------------+--------------------+------------------+------------------+-----------------+---------------+--------------+\n",
            "|Percy Jackson & t...|A teenager discov...|Though it may see...|    PG|Action & Adventur...|      Chris Columbus|        Craig Titley|Logan Lerman, Bra...|      2010-02-12|       2010-06-29|                83|    20th Century Fox|            Rotten|                49|              144|             53|        254287|\n",
            "|         Please Give|Kate has a lot on...|Nicole Holofcener...|     R|              Comedy|   Nicole Holofcener|   Nicole Holofcener|Catherine Keener,...|      2010-04-30|       2010-10-19|                90|Sony Pictures Cla...|   Certified Fresh|                86|              140|             64|         11567|\n",
            "|         10,000 B.C.|A young outcast f...|With attention st...| PG-13|Action & Adventur...|     Roland Emmerich|Roland Emmerich, ...|Steven Strait, Ca...|      2008-03-07|       2008-06-24|               109|Warner Bros. Pict...|            Rotten|                 8|              148|             37|        411087|\n",
            "|       The Lost City|Andy Garcia stars...|Its heart is in t...|     R|               Drama|         Andy Garcia|G. Cabrera Infant...|Andy Garcia, Dust...|      2005-09-03|       2006-08-08|               143|   Magnolia Pictures|            Rotten|                25|               83|             64|         25940|\n",
            "|The Bridge of San...|Thornton Wilder's...|Despite an all-st...|    PG|Art House & Inter...|      Mary McGuckian|      Mary McGuckian|Gabriel Byrne, F....|      2005-06-10|       2005-10-11|               120|  Fine Line Features|            Rotten|                 4|               24|             35|          1931|\n",
            "|            Criminal|A contemporary ca...|If you saw Nine Q...|     R|Drama, Mystery & ...|Greggory Jacobs, ...|Gregory Jacobs, F...|John C. Reilly, D...|      2004-09-24|       2005-04-12|                88|Warner Bros. Pict...|             Fresh|                69|              124|             57|          6702|\n",
            "|           Deep Blue|This comprehensiv...|Full of visually ...|     G|Documentary, Spec...|Andy Byatt, Alast...|Alastair Fothergi...|Pierce Brosnan, M...|      2005-06-17|       2006-04-11|                90|       Miramax Flims|             Fresh|                67|               52|             80|          4690|\n",
            "|    Tristan & Isolde|In the medieval l...|Competent but som...| PG-13|Drama, Science Fi...|      Kevin Reynolds|      Dean Georgaris|James Franco, Sop...|      2006-01-13|       2006-04-25|                99|    20th Century Fox|            Rotten|                31|              121|             71|        220945|\n",
            "|         Ultraviolet|In the late 21st ...|An incomprehensib...| PG-13|Action & Adventur...|         Kurt Wimmer|         Kurt Wimmer|Milla Jovovich, C...|      2006-03-03|       2006-06-27|                88|       Sony Pictures|            Rotten|                 8|               83|             30|        279966|\n",
            "|Arthur and the In...|On the heels of h...|Arthur wastes its...|    PG|Animation, Kids &...|          Luc Besson|Luc Besson, Celin...|Freddie Highmore,...|      2007-01-12|       2007-05-15|                94|                 MGM|            Rotten|                22|               91|             56|        134466|\n",
            "|             Eternal|When the wife of ...|Even by the stand...|     R|Horror, Mystery &...|Wilhelm Liebenber...|Wilhelm Liebenber...|Sarah Manninen, C...|      2004-08-26|       2005-10-18|               107|    Regent Releasing|            Rotten|                21|               34|             40|          1294|\n",
            "|         The Matador|A chance meeting ...|This humorously a...|     R|Action & Adventur...|Bob Yari, Richard...|Richard Shepard, ...|Pierce Brosnan, G...|      2006-01-27|       2006-07-04|                97|The Weinstein Com...|   Certified Fresh|                75|              154|             65|         73691|\n",
            "|The Intruder (L'I...|Claire Denis' ell...|The impressionist...|     G|Art House & Inter...|        Claire Denis|Claire Denis, Jea...|Beatrice Dalle, M...|      2005-12-23|       2006-04-25|               129|          Wellspring|             Fresh|                86|               29|             73|          9701|\n",
            "|         Saint Ralph|This is the story...|Saint Ralph is an...| PG-13|       Comedy, Drama|     Michael McGowan|     Michael McGowan|Adam Butcher, Cam...|      2005-08-05|       2005-12-13|                98|                 IDP|             Fresh|                64|               69|             85|          6202|\n",
            "|        Oliver Twist|Director Roman Po...|Polanski's versio...| PG-13|Drama, Kids & Family|      Roman Polanski|      Ronald Harwood|Ben Kingsley, Bar...|      2005-09-30|       2006-01-24|               130|       Sony Pictures|             Fresh|                60|              141|             63|         23278|\n",
            "|                   G|Writer-director C...|Race and class st...|     R|      Drama, Romance|Christopher Scott...|Charles E. Drew, ...|Richard T. Jones,...|      2005-09-16|       2006-03-28|                96|    Slow Hand Cinema|            Rotten|                24|               29|             60|          1140|\n",
            "|     When Do We Eat?|This is the story...|A crass, sitcom-i...|     R|              Comedy|     Salvador Litvak|Salvador Litvak, ...|Michael Lerner, L...|      2006-04-07|       2006-08-22|                86|           ThinkFilm|            Rotten|                42|               38|             68|          1121|\n",
            "|               Dirty|\"In a city ravage...|Dirty is an unori...|     R|               Drama|        Chris Fisher|Chris Fisher, Gil...|Cuba Gooding Jr.,...|      2006-02-24|       2006-04-04|                97|            SNP Inc.|            Rotten|                21|               28|             42|          7321|\n",
            "|           The Motel|Writer-director M...|A coming-of-age d...|    NR|       Comedy, Drama|        Michael Kang|        Michael Kang|Jeffrey Chyau, Su...|      2005-06-28|       2007-01-30|                76|       Palm Pictures|             Fresh|                87|               31|             64|          4038|\n",
            "|Once in a Lifetim...|While professiona...|You don't have to...| PG-13|Documentary, Spor...|Paul Crowder, Joh...|Mark Monroe, John...|Johann Cruyff, Fr...|      2006-05-18|       2006-10-03|                97|             Miramax|   Certified Fresh|                81|               59|             80|          1416|\n",
            "+--------------------+--------------------+--------------------+------+--------------------+--------------------+--------------------+--------------------+----------------+-----------------+------------------+--------------------+------------------+------------------+-----------------+---------------+--------------+\n",
            "only showing top 20 rows\n",
            "\n"
          ]
        }
      ]
    },
    {
      "cell_type": "markdown",
      "source": [
        "Moyenne des notes par les studios"
      ],
      "metadata": {
        "id": "yPUlOe4LVHFj"
      }
    },
    {
      "cell_type": "code",
      "source": [
        "average_rating_by_studio.show()"
      ],
      "metadata": {
        "colab": {
          "base_uri": "https://localhost:8080/"
        },
        "id": "SkTMTu65VVK4",
        "outputId": "12d6d095-ed3a-4bac-8f42-447d442eee32"
      },
      "execution_count": 196,
      "outputs": [
        {
          "output_type": "stream",
          "name": "stdout",
          "text": [
            "+-----------+----------+\n",
            "|studio_name|avg_rating|\n",
            "+-----------+----------+\n",
            "| 1959-11-18|     222.0|\n",
            "| 1961-10-30|     165.0|\n",
            "| 2009-12-18|     162.0|\n",
            "| 1993-06-01|     154.0|\n",
            "| 2002-01-25|     131.0|\n",
            "| 1982-04-02|     119.0|\n",
            "| 2013-12-18|     119.0|\n",
            "| 2011-09-30|     118.0|\n",
            "| 2007-03-09|     116.0|\n",
            "| 2016-11-18|     116.0|\n",
            "| 2003-04-25|     116.0|\n",
            "| 1988-06-29|     116.0|\n",
            "| 2007-04-06|     115.0|\n",
            "| 1996-05-31|     115.0|\n",
            "| 1989-05-19|     114.0|\n",
            "| 2008-09-04|     114.0|\n",
            "| 2017-10-27|     110.0|\n",
            "| 2008-12-05|     108.0|\n",
            "| 2008-05-17|     107.0|\n",
            "| 1988-06-15|     107.0|\n",
            "+-----------+----------+\n",
            "only showing top 20 rows\n",
            "\n"
          ]
        }
      ]
    },
    {
      "cell_type": "markdown",
      "source": [
        "Moyenne des notes par les directeurs"
      ],
      "metadata": {
        "id": "lKQQKFjYVg8C"
      }
    },
    {
      "cell_type": "code",
      "source": [
        "average_rating_by_director.show()"
      ],
      "metadata": {
        "colab": {
          "base_uri": "https://localhost:8080/"
        },
        "id": "SKFzAH1gVkQo",
        "outputId": "0c715978-f9ff-4d6e-e6c1-22b60bda515b"
      },
      "execution_count": 197,
      "outputs": [
        {
          "output_type": "stream",
          "name": "stdout",
          "text": [
            "+--------------------+----------+\n",
            "|           directors|avg_rating|\n",
            "+--------------------+----------+\n",
            "|                   G|     222.0|\n",
            "|With enough narra...|     165.0|\n",
            "|It might be more ...|     162.0|\n",
            "|The Firm is a big...|     154.0|\n",
            "|Though it may not...|     131.0|\n",
            "|It's just as unev...|     119.0|\n",
            "|Paul Schrader's k...|     119.0|\n",
            "|Bunraku admirably...|     118.0|\n",
            "|Bleed for This ri...|     116.0|\n",
            "|A simple-minded b...|     116.0|\n",
            "|Eddie Murphy was ...|     116.0|\n",
            "|         Matt Dillon|     116.0|\n",
            "|The Hoax is an en...|     115.0|\n",
            "|Stylish and inven...|     115.0|\n",
            "|The Women is a to...|     114.0|\n",
            "|All I See Is You ...|     110.0|\n",
            "|What Cadillac Rec...|     108.0|\n",
            "|Despite a talente...|     107.0|\n",
            "|This derivative p...|     107.0|\n",
            "|Kevin Costner at ...|     107.0|\n",
            "+--------------------+----------+\n",
            "only showing top 20 rows\n",
            "\n"
          ]
        }
      ]
    },
    {
      "cell_type": "markdown",
      "source": [
        "Durée moyenne des film pour chaque genre"
      ],
      "metadata": {
        "id": "mBrpUpiab66M"
      }
    },
    {
      "cell_type": "code",
      "source": [
        "average_duration_by_genre.show()"
      ],
      "metadata": {
        "colab": {
          "base_uri": "https://localhost:8080/"
        },
        "id": "VGRJ8wy7cCgI",
        "outputId": "46e8c6f5-02d7-4fde-f1ec-5029c7799f43"
      },
      "execution_count": 198,
      "outputs": [
        {
          "output_type": "stream",
          "name": "stdout",
          "text": [
            "+--------------------+------------------+\n",
            "|               genre|      avg_duration|\n",
            "+--------------------+------------------+\n",
            "|             Western|117.63157894736842|\n",
            "|            Classics| 114.8936170212766|\n",
            "|Faith & Spirituality|113.71428571428571|\n",
            "|    Sports & Fitness|110.71428571428571|\n",
            "|               Drama|110.09607843137255|\n",
            "|Art House & Inter...|109.51196172248804|\n",
            "|  Action & Adventure|109.33513513513513|\n",
            "|             Romance|109.06306306306307|\n",
            "|  Mystery & Suspense|106.88592233009709|\n",
            "|Science Fiction &...|105.33165829145729|\n",
            "|       Anime & Manga|             105.0|\n",
            "|Musical & Perform...|104.16071428571429|\n",
            "|              Comedy|100.36717428087987|\n",
            "|              Horror| 98.87958115183245|\n",
            "|       Gay & Lesbian|              96.5|\n",
            "|          Television|              96.0|\n",
            "|    Special Interest|              95.6|\n",
            "|       Kids & Family| 95.06766917293233|\n",
            "|         Documentary| 91.77272727272727|\n",
            "|         Cult Movies|              90.4|\n",
            "+--------------------+------------------+\n",
            "only showing top 20 rows\n",
            "\n"
          ]
        }
      ]
    },
    {
      "cell_type": "markdown",
      "source": [
        "On ferme la session Spark"
      ],
      "metadata": {
        "id": "HsaT7AY6cToa"
      }
    },
    {
      "cell_type": "code",
      "source": [
        "spark.stop()"
      ],
      "metadata": {
        "id": "WCa301I1cWHf"
      },
      "execution_count": 199,
      "outputs": []
    }
  ]
}